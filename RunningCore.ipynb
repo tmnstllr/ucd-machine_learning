{
 "cells": [
  {
   "cell_type": "markdown",
   "id": "36c77ce0",
   "metadata": {},
   "source": [
    "# COMP47670 Assignment II Autumn 2023\n",
    "## Time Series Running Data\n",
    "\n",
    "## Objective\n",
    "The objective of this assignment is to identify good models for classifying time series data.  \n",
    "The data is from an accelerometer sensor and there are samples of fatigued and non-fatigued running. The data has been segmented into strides and the segments (samples) are labelled F (fatigued) and NF (not fatigued). The data for two subjects A and B are available in the files  `fatigueA.csv` and  `fatigueB.csv`. This dataset is extracted from a much larger dataset described [here](https://openreview.net/pdf?id=9c0lAonDNP).  \n",
    "At present, the best performing method for time-series classification is [Rocket](https://openreview.net/pdf?id=9c0lAonDNP). \n",
    "A rocket implementation is available in the [sktime tool kit](https://www.sktime.net/en/latest/api_reference/auto_generated/sktime.transformations.panel.rocket.Rocket.html). This sktime implementation can be used in this assignment.   \n",
    "Some code to get you started in available in the notebook `RunningCore`.\n",
    "\n"
   ]
  },
  {
   "cell_type": "code",
   "execution_count": 1,
   "id": "62ded7ee",
   "metadata": {},
   "outputs": [],
   "source": [
    "# pip install sktime"
   ]
  },
  {
   "cell_type": "code",
   "execution_count": 8,
   "id": "ed655030",
   "metadata": {
    "ExecuteTime": {
     "end_time": "2023-11-08T13:49:02.163855Z",
     "start_time": "2023-11-08T13:49:02.159171Z"
    }
   },
   "outputs": [],
   "source": [
    "import pandas as pd\n",
    "import numpy as np\n",
    "import matplotlib.pyplot as plt\n",
    "from sklearn.linear_model import SGDClassifier\n",
    "from sklearn.model_selection import train_test_split, cross_val_score\n",
    "from sklearn.metrics import accuracy_score"
   ]
  },
  {
   "cell_type": "code",
   "execution_count": 7,
   "id": "fddb22e4",
   "metadata": {
    "ExecuteTime": {
     "end_time": "2023-11-08T13:38:58.922849Z",
     "start_time": "2023-11-08T13:38:58.900419Z"
    }
   },
   "outputs": [
    {
     "name": "stdout",
     "output_type": "stream",
     "text": [
      "(421, 181)\n"
     ]
    },
    {
     "data": {
      "text/plain": "    0     1     2      3      4     5     6     7     8     9    ...   171  \\\n0     F  2.72  2.69  2.750  2.890  3.07  3.27  3.48  3.67  3.82  ...  6.50   \n1     F  2.68  2.47  2.460  2.540  2.69  2.93  3.36  3.99  4.75  ...  2.79   \n2     F  5.04  5.69  6.210  6.520  6.59  6.47  6.26  6.06  5.91  ...  5.89   \n3     F  2.42  3.21  4.020  4.580  4.77  4.64  4.39  4.25  4.42  ...  8.60   \n4     F  3.35  3.40  3.890  4.710  5.66  6.47  6.90  6.81  6.25  ...  9.45   \n..   ..   ...   ...    ...    ...   ...   ...   ...   ...   ...  ...   ...   \n416  NF  2.37  3.17  3.810  4.180  4.32  4.42  4.68  5.27  6.17  ...  6.41   \n417  NF  2.42  1.86  1.910  2.640  3.84  5.11  6.02  6.29  5.93  ...  7.45   \n418  NF  2.17  1.45  1.850  3.430  5.69  7.76  8.86  8.69  7.60  ...  8.58   \n419  NF  2.07  1.16  0.671  0.737  1.37  2.46  3.84  5.33  6.78  ...  8.02   \n420  NF  2.37  2.01  2.120  2.590  3.24  3.92  4.59  5.31  6.18  ...  8.36   \n\n      172   173   174   175   176   177   178   179   180  \n0    6.16  5.75  5.29  4.79  4.29  3.83  3.42  3.09  2.85  \n1    3.88  5.18  6.29  6.88  6.80  6.13  5.11  4.04  3.20  \n2    5.29  4.72  4.20  3.77  3.47  3.36  3.47  3.82  4.38  \n3    8.76  8.76  8.32  7.34  5.91  4.33  2.97  2.14  1.98  \n4    8.52  7.75  7.14  6.63  6.15  5.60  4.96  4.28  3.69  \n..    ...   ...   ...   ...   ...   ...   ...   ...   ...  \n416  6.24  5.91  5.26  4.27  3.11  2.07  1.39  1.26  1.64  \n417  5.94  4.63  3.85  3.68  3.96  4.32  4.41  4.04  3.28  \n418  8.57  7.83  6.84  6.08  5.75  5.69  5.46  4.73  3.49  \n419  7.08  6.45  6.14  6.04  5.96  5.71  5.16  4.29  3.19  \n420  7.42  6.35  5.52  5.10  4.99  4.90  4.57  3.92  3.09  \n\n[421 rows x 181 columns]",
      "text/html": "<div>\n<style scoped>\n    .dataframe tbody tr th:only-of-type {\n        vertical-align: middle;\n    }\n\n    .dataframe tbody tr th {\n        vertical-align: top;\n    }\n\n    .dataframe thead th {\n        text-align: right;\n    }\n</style>\n<table border=\"1\" class=\"dataframe\">\n  <thead>\n    <tr style=\"text-align: right;\">\n      <th></th>\n      <th>0</th>\n      <th>1</th>\n      <th>2</th>\n      <th>3</th>\n      <th>4</th>\n      <th>5</th>\n      <th>6</th>\n      <th>7</th>\n      <th>8</th>\n      <th>9</th>\n      <th>...</th>\n      <th>171</th>\n      <th>172</th>\n      <th>173</th>\n      <th>174</th>\n      <th>175</th>\n      <th>176</th>\n      <th>177</th>\n      <th>178</th>\n      <th>179</th>\n      <th>180</th>\n    </tr>\n  </thead>\n  <tbody>\n    <tr>\n      <th>0</th>\n      <td>F</td>\n      <td>2.72</td>\n      <td>2.69</td>\n      <td>2.750</td>\n      <td>2.890</td>\n      <td>3.07</td>\n      <td>3.27</td>\n      <td>3.48</td>\n      <td>3.67</td>\n      <td>3.82</td>\n      <td>...</td>\n      <td>6.50</td>\n      <td>6.16</td>\n      <td>5.75</td>\n      <td>5.29</td>\n      <td>4.79</td>\n      <td>4.29</td>\n      <td>3.83</td>\n      <td>3.42</td>\n      <td>3.09</td>\n      <td>2.85</td>\n    </tr>\n    <tr>\n      <th>1</th>\n      <td>F</td>\n      <td>2.68</td>\n      <td>2.47</td>\n      <td>2.460</td>\n      <td>2.540</td>\n      <td>2.69</td>\n      <td>2.93</td>\n      <td>3.36</td>\n      <td>3.99</td>\n      <td>4.75</td>\n      <td>...</td>\n      <td>2.79</td>\n      <td>3.88</td>\n      <td>5.18</td>\n      <td>6.29</td>\n      <td>6.88</td>\n      <td>6.80</td>\n      <td>6.13</td>\n      <td>5.11</td>\n      <td>4.04</td>\n      <td>3.20</td>\n    </tr>\n    <tr>\n      <th>2</th>\n      <td>F</td>\n      <td>5.04</td>\n      <td>5.69</td>\n      <td>6.210</td>\n      <td>6.520</td>\n      <td>6.59</td>\n      <td>6.47</td>\n      <td>6.26</td>\n      <td>6.06</td>\n      <td>5.91</td>\n      <td>...</td>\n      <td>5.89</td>\n      <td>5.29</td>\n      <td>4.72</td>\n      <td>4.20</td>\n      <td>3.77</td>\n      <td>3.47</td>\n      <td>3.36</td>\n      <td>3.47</td>\n      <td>3.82</td>\n      <td>4.38</td>\n    </tr>\n    <tr>\n      <th>3</th>\n      <td>F</td>\n      <td>2.42</td>\n      <td>3.21</td>\n      <td>4.020</td>\n      <td>4.580</td>\n      <td>4.77</td>\n      <td>4.64</td>\n      <td>4.39</td>\n      <td>4.25</td>\n      <td>4.42</td>\n      <td>...</td>\n      <td>8.60</td>\n      <td>8.76</td>\n      <td>8.76</td>\n      <td>8.32</td>\n      <td>7.34</td>\n      <td>5.91</td>\n      <td>4.33</td>\n      <td>2.97</td>\n      <td>2.14</td>\n      <td>1.98</td>\n    </tr>\n    <tr>\n      <th>4</th>\n      <td>F</td>\n      <td>3.35</td>\n      <td>3.40</td>\n      <td>3.890</td>\n      <td>4.710</td>\n      <td>5.66</td>\n      <td>6.47</td>\n      <td>6.90</td>\n      <td>6.81</td>\n      <td>6.25</td>\n      <td>...</td>\n      <td>9.45</td>\n      <td>8.52</td>\n      <td>7.75</td>\n      <td>7.14</td>\n      <td>6.63</td>\n      <td>6.15</td>\n      <td>5.60</td>\n      <td>4.96</td>\n      <td>4.28</td>\n      <td>3.69</td>\n    </tr>\n    <tr>\n      <th>...</th>\n      <td>...</td>\n      <td>...</td>\n      <td>...</td>\n      <td>...</td>\n      <td>...</td>\n      <td>...</td>\n      <td>...</td>\n      <td>...</td>\n      <td>...</td>\n      <td>...</td>\n      <td>...</td>\n      <td>...</td>\n      <td>...</td>\n      <td>...</td>\n      <td>...</td>\n      <td>...</td>\n      <td>...</td>\n      <td>...</td>\n      <td>...</td>\n      <td>...</td>\n      <td>...</td>\n    </tr>\n    <tr>\n      <th>416</th>\n      <td>NF</td>\n      <td>2.37</td>\n      <td>3.17</td>\n      <td>3.810</td>\n      <td>4.180</td>\n      <td>4.32</td>\n      <td>4.42</td>\n      <td>4.68</td>\n      <td>5.27</td>\n      <td>6.17</td>\n      <td>...</td>\n      <td>6.41</td>\n      <td>6.24</td>\n      <td>5.91</td>\n      <td>5.26</td>\n      <td>4.27</td>\n      <td>3.11</td>\n      <td>2.07</td>\n      <td>1.39</td>\n      <td>1.26</td>\n      <td>1.64</td>\n    </tr>\n    <tr>\n      <th>417</th>\n      <td>NF</td>\n      <td>2.42</td>\n      <td>1.86</td>\n      <td>1.910</td>\n      <td>2.640</td>\n      <td>3.84</td>\n      <td>5.11</td>\n      <td>6.02</td>\n      <td>6.29</td>\n      <td>5.93</td>\n      <td>...</td>\n      <td>7.45</td>\n      <td>5.94</td>\n      <td>4.63</td>\n      <td>3.85</td>\n      <td>3.68</td>\n      <td>3.96</td>\n      <td>4.32</td>\n      <td>4.41</td>\n      <td>4.04</td>\n      <td>3.28</td>\n    </tr>\n    <tr>\n      <th>418</th>\n      <td>NF</td>\n      <td>2.17</td>\n      <td>1.45</td>\n      <td>1.850</td>\n      <td>3.430</td>\n      <td>5.69</td>\n      <td>7.76</td>\n      <td>8.86</td>\n      <td>8.69</td>\n      <td>7.60</td>\n      <td>...</td>\n      <td>8.58</td>\n      <td>8.57</td>\n      <td>7.83</td>\n      <td>6.84</td>\n      <td>6.08</td>\n      <td>5.75</td>\n      <td>5.69</td>\n      <td>5.46</td>\n      <td>4.73</td>\n      <td>3.49</td>\n    </tr>\n    <tr>\n      <th>419</th>\n      <td>NF</td>\n      <td>2.07</td>\n      <td>1.16</td>\n      <td>0.671</td>\n      <td>0.737</td>\n      <td>1.37</td>\n      <td>2.46</td>\n      <td>3.84</td>\n      <td>5.33</td>\n      <td>6.78</td>\n      <td>...</td>\n      <td>8.02</td>\n      <td>7.08</td>\n      <td>6.45</td>\n      <td>6.14</td>\n      <td>6.04</td>\n      <td>5.96</td>\n      <td>5.71</td>\n      <td>5.16</td>\n      <td>4.29</td>\n      <td>3.19</td>\n    </tr>\n    <tr>\n      <th>420</th>\n      <td>NF</td>\n      <td>2.37</td>\n      <td>2.01</td>\n      <td>2.120</td>\n      <td>2.590</td>\n      <td>3.24</td>\n      <td>3.92</td>\n      <td>4.59</td>\n      <td>5.31</td>\n      <td>6.18</td>\n      <td>...</td>\n      <td>8.36</td>\n      <td>7.42</td>\n      <td>6.35</td>\n      <td>5.52</td>\n      <td>5.10</td>\n      <td>4.99</td>\n      <td>4.90</td>\n      <td>4.57</td>\n      <td>3.92</td>\n      <td>3.09</td>\n    </tr>\n  </tbody>\n</table>\n<p>421 rows × 181 columns</p>\n</div>"
     },
     "execution_count": 7,
     "metadata": {},
     "output_type": "execute_result"
    }
   ],
   "source": [
    "fatigue_df = pd.read_csv('fatigueA.csv', header = None) # sep = '\\s+')\n",
    "print(fatigue_df.shape)\n",
    "fatigue_df"
   ]
  },
  {
   "cell_type": "code",
   "execution_count": 3,
   "id": "936131c5",
   "metadata": {
    "ExecuteTime": {
     "end_time": "2023-11-08T13:34:58.052899Z",
     "start_time": "2023-11-08T13:34:57.953242Z"
    }
   },
   "outputs": [
    {
     "data": {
      "text/plain": "Text(0, 0.5, 'Accel Mag')"
     },
     "execution_count": 3,
     "metadata": {},
     "output_type": "execute_result"
    },
    {
     "data": {
      "text/plain": "<Figure size 400x300 with 1 Axes>",
      "image/png": "[encoded data removed]"
     },
     "metadata": {},
     "output_type": "display_data"
    }
   ],
   "source": [
    "fatigue_df.iloc[4][1:].plot(label='Fatigued')\n",
    "fatigue_df.iloc[-5][1:].plot(figsize=(4,3), label = 'Not Fatigued')\n",
    "plt.legend(loc='upper center', bbox_to_anchor=(0.5, 1.15),ncol=2)\n",
    "plt.ylabel('Accel Mag')\n"
   ]
  },
  {
   "cell_type": "code",
   "execution_count": 4,
   "id": "7f2141ff",
   "metadata": {
    "ExecuteTime": {
     "end_time": "2023-11-08T13:35:02.691641Z",
     "start_time": "2023-11-08T13:35:02.684695Z"
    }
   },
   "outputs": [],
   "source": [
    "y = fatigue_df.pop(0).values\n",
    "X = fatigue_df.values"
   ]
  },
  {
   "cell_type": "markdown",
   "id": "559bdcd9",
   "metadata": {},
   "source": [
    "### Task 1\n",
    "Calculate the accuracy of a logistic regression classifier (`SGDClassifier`) on the raw time series data for subject A. "
   ]
  },
  {
   "cell_type": "code",
   "execution_count": 5,
   "id": "18d0d8b0",
   "metadata": {
    "scrolled": true,
    "ExecuteTime": {
     "end_time": "2023-11-08T13:35:05.995941Z",
     "start_time": "2023-11-08T13:35:05.992121Z"
    }
   },
   "outputs": [
    {
     "data": {
      "text/plain": "((421, 180), (421,))"
     },
     "execution_count": 5,
     "metadata": {},
     "output_type": "execute_result"
    }
   ],
   "source": [
    "X.shape, y.shape"
   ]
  },
  {
   "cell_type": "code",
   "execution_count": 13,
   "id": "cc22ef3f",
   "metadata": {
    "ExecuteTime": {
     "end_time": "2023-11-08T13:59:47.897674Z",
     "start_time": "2023-11-08T13:59:47.831797Z"
    }
   },
   "outputs": [
    {
     "name": "stdout",
     "output_type": "stream",
     "text": [
      "Cross-validation accuracy: 0.7393\n",
      "Test accuracy: 0.8582\n"
     ]
    }
   ],
   "source": [
    "X_train, X_test, y_train, y_test = train_test_split(X, y, test_size=1/3, random_state=42)\n",
    "clf = SGDClassifier(max_iter=10000)\n",
    "clf.fit(X_train, y_train)\n",
    "\n",
    "cv_scores = cross_val_score(clf, X_train, y_train, cv=10, n_jobs=-1, scoring='accuracy')\n",
    "print(\"Cross-validation accuracy:\", round(cv_scores.mean(), 4))\n",
    "\n",
    "y_pred = clf.predict(X_test)\n",
    "test_accuracy = accuracy_score(y_test, y_pred)\n",
    "print(\"Test accuracy:\", round(test_accuracy, 4))"
   ]
  },
  {
   "cell_type": "markdown",
   "id": "53115f94",
   "metadata": {},
   "source": [
    "### Task 2\n",
    "The RunningCore Notebook contains code to convert the data to the `sktime` time-series format. Using this format assess the accuracy of the Rocket transformer coupled with an `SGDClassifier` classifier on the data for subject A. \n"
   ]
  },
  {
   "cell_type": "code",
   "execution_count": 14,
   "id": "ff530507",
   "metadata": {
    "ExecuteTime": {
     "end_time": "2023-11-08T14:01:33.903575Z",
     "start_time": "2023-11-08T14:01:33.901110Z"
    }
   },
   "outputs": [
    {
     "data": {
      "text/plain": "(421, 1, 180)"
     },
     "execution_count": 14,
     "metadata": {},
     "output_type": "execute_result"
    }
   ],
   "source": [
    "X3d = X[:,np.newaxis,:] # time series algs require a 3D data array (sample, var, tick)\n",
    "X3d.shape"
   ]
  },
  {
   "cell_type": "code",
   "execution_count": null,
   "id": "af39f3b0",
   "metadata": {},
   "outputs": [],
   "source": []
  },
  {
   "cell_type": "code",
   "execution_count": null,
   "id": "15540a18",
   "metadata": {
    "scrolled": true
   },
   "outputs": [],
   "source": []
  }
 ],
 "metadata": {
  "kernelspec": {
   "display_name": "Python 3 (ipykernel)",
   "language": "python",
   "name": "python3"
  },
  "language_info": {
   "codemirror_mode": {
    "name": "ipython",
    "version": 3
   },
   "file_extension": ".py",
   "mimetype": "text/x-python",
   "name": "python",
   "nbconvert_exporter": "python",
   "pygments_lexer": "ipython3",
   "version": "3.11.4"
  }
 },
 "nbformat": 4,
 "nbformat_minor": 5
}
