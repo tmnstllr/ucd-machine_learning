{
 "cells": [
  {
   "cell_type": "code",
   "execution_count": 117,
   "id": "initial_id",
   "metadata": {
    "collapsed": true,
    "ExecuteTime": {
     "end_time": "2023-10-31T14:30:42.397451Z",
     "start_time": "2023-10-31T14:30:42.395281Z"
    }
   },
   "outputs": [],
   "source": [
    "import pandas as pd\n",
    "import numpy as np\n",
    "from sklearn import tree\n",
    "from sklearn.tree import DecisionTreeClassifier\n",
    "from sklearn.neighbors import KNeighborsClassifier\n",
    "from sklearn.linear_model import LogisticRegression\n",
    "from sklearn.ensemble import RandomForestClassifier\n",
    "from sklearn.preprocessing import StandardScaler\n",
    "from sklearn.model_selection import train_test_split\n",
    "from sklearn.metrics import accuracy_score, precision_score, recall_score, confusion_matrix, f1_score, multilabel_confusion_matrix, ConfusionMatrixDisplay\n",
    "import matplotlib.pyplot as plt\n",
    "from sklearn.metrics import classification_report\n",
    "from sklearn import tree\n",
    "\n",
    "# import warnings filter\n",
    "from warnings import simplefilter\n",
    "# ignore all future warnings\n",
    "simplefilter(action='ignore', category=FutureWarning)"
   ]
  },
  {
   "cell_type": "markdown",
   "source": [
    "Link to Assignment:\n",
    "https://docs.google.com/document/d/1savsuz2g5zOVs9igef1dF5xuueomoS8Eow8Qr9rMifg/edit"
   ],
   "metadata": {
    "collapsed": false
   },
   "id": "4aca6479bcad13ff"
  },
  {
   "cell_type": "markdown",
   "source": [
    "# Task 1\n",
    "Load the dataset into a Python notebook and test the performance of the following models:\n",
    "a k-Nearest Neighbour\n",
    "b Decision Tree\n",
    "c Logistic Regression\n",
    "d Random Forest\n"
   ],
   "metadata": {
    "collapsed": false
   },
   "id": "def0756a88babd28"
  },
  {
   "cell_type": "code",
   "execution_count": 119,
   "outputs": [
    {
     "data": {
      "text/plain": "        Area  Perimeter  MajorAxisLength  MinorAxisLength  AspectRation  \\\n0      28395    610.291       208.178117       173.888747      1.197191   \n1      28734    638.018       200.524796       182.734419      1.097356   \n2      29380    624.110       212.826130       175.931143      1.209713   \n3      30008    645.884       210.557999       182.516516      1.153638   \n4      30140    620.134       201.847882       190.279279      1.060798   \n...      ...        ...              ...              ...           ...   \n13606  42097    759.696       288.721612       185.944705      1.552728   \n13607  42101    757.499       281.576392       190.713136      1.476439   \n13608  42139    759.321       281.539928       191.187979      1.472582   \n13609  42147    763.779       283.382636       190.275731      1.489326   \n13610  42159    772.237       295.142741       182.204716      1.619841   \n\n       Eccentricity  ConvexArea  EquivDiameter    Extent  Solidity  roundness  \\\n0          0.549812       28715     190.141097  0.763923  0.988856   0.958027   \n1          0.411785       29172     191.272751  0.783968  0.984986   0.887034   \n2          0.562727       29690     193.410904  0.778113  0.989559   0.947849   \n3          0.498616       30724     195.467062  0.782681  0.976696   0.903936   \n4          0.333680       30417     195.896503  0.773098  0.990893   0.984877   \n...             ...         ...            ...       ...       ...        ...   \n13606      0.765002       42508     231.515799  0.714574  0.990331   0.916603   \n13607      0.735702       42494     231.526798  0.799943  0.990752   0.922015   \n13608      0.734065       42569     231.631261  0.729932  0.989899   0.918424   \n13609      0.741055       42667     231.653247  0.705389  0.987813   0.907906   \n13610      0.786693       42600     231.686223  0.788962  0.989648   0.888380   \n\n       Compactness  ShapeFactor1  ShapeFactor2  ShapeFactor3  ShapeFactor4  \\\n0         0.913358      0.007332      0.003147      0.834222      0.998724   \n1         0.953861      0.006979      0.003564      0.909851      0.998430   \n2         0.908774      0.007244      0.003048      0.825871      0.999066   \n3         0.928329      0.007017      0.003215      0.861794      0.994199   \n4         0.970516      0.006697      0.003665      0.941900      0.999166   \n...            ...           ...           ...           ...           ...   \n13606     0.801865      0.006858      0.001749      0.642988      0.998385   \n13607     0.822252      0.006688      0.001886      0.676099      0.998219   \n13608     0.822730      0.006681      0.001888      0.676884      0.996767   \n13609     0.817457      0.006724      0.001852      0.668237      0.995222   \n13610     0.784997      0.007001      0.001640      0.616221      0.998180   \n\n          Class  \n0         SEKER  \n1         SEKER  \n2         SEKER  \n3         SEKER  \n4         SEKER  \n...         ...  \n13606  DERMASON  \n13607  DERMASON  \n13608  DERMASON  \n13609  DERMASON  \n13610  DERMASON  \n\n[13611 rows x 17 columns]",
      "text/html": "<div>\n<style scoped>\n    .dataframe tbody tr th:only-of-type {\n        vertical-align: middle;\n    }\n\n    .dataframe tbody tr th {\n        vertical-align: top;\n    }\n\n    .dataframe thead th {\n        text-align: right;\n    }\n</style>\n<table border=\"1\" class=\"dataframe\">\n  <thead>\n    <tr style=\"text-align: right;\">\n      <th></th>\n      <th>Area</th>\n      <th>Perimeter</th>\n      <th>MajorAxisLength</th>\n      <th>MinorAxisLength</th>\n      <th>AspectRation</th>\n      <th>Eccentricity</th>\n      <th>ConvexArea</th>\n      <th>EquivDiameter</th>\n      <th>Extent</th>\n      <th>Solidity</th>\n      <th>roundness</th>\n      <th>Compactness</th>\n      <th>ShapeFactor1</th>\n      <th>ShapeFactor2</th>\n      <th>ShapeFactor3</th>\n      <th>ShapeFactor4</th>\n      <th>Class</th>\n    </tr>\n  </thead>\n  <tbody>\n    <tr>\n      <th>0</th>\n      <td>28395</td>\n      <td>610.291</td>\n      <td>208.178117</td>\n      <td>173.888747</td>\n      <td>1.197191</td>\n      <td>0.549812</td>\n      <td>28715</td>\n      <td>190.141097</td>\n      <td>0.763923</td>\n      <td>0.988856</td>\n      <td>0.958027</td>\n      <td>0.913358</td>\n      <td>0.007332</td>\n      <td>0.003147</td>\n      <td>0.834222</td>\n      <td>0.998724</td>\n      <td>SEKER</td>\n    </tr>\n    <tr>\n      <th>1</th>\n      <td>28734</td>\n      <td>638.018</td>\n      <td>200.524796</td>\n      <td>182.734419</td>\n      <td>1.097356</td>\n      <td>0.411785</td>\n      <td>29172</td>\n      <td>191.272751</td>\n      <td>0.783968</td>\n      <td>0.984986</td>\n      <td>0.887034</td>\n      <td>0.953861</td>\n      <td>0.006979</td>\n      <td>0.003564</td>\n      <td>0.909851</td>\n      <td>0.998430</td>\n      <td>SEKER</td>\n    </tr>\n    <tr>\n      <th>2</th>\n      <td>29380</td>\n      <td>624.110</td>\n      <td>212.826130</td>\n      <td>175.931143</td>\n      <td>1.209713</td>\n      <td>0.562727</td>\n      <td>29690</td>\n      <td>193.410904</td>\n      <td>0.778113</td>\n      <td>0.989559</td>\n      <td>0.947849</td>\n      <td>0.908774</td>\n      <td>0.007244</td>\n      <td>0.003048</td>\n      <td>0.825871</td>\n      <td>0.999066</td>\n      <td>SEKER</td>\n    </tr>\n    <tr>\n      <th>3</th>\n      <td>30008</td>\n      <td>645.884</td>\n      <td>210.557999</td>\n      <td>182.516516</td>\n      <td>1.153638</td>\n      <td>0.498616</td>\n      <td>30724</td>\n      <td>195.467062</td>\n      <td>0.782681</td>\n      <td>0.976696</td>\n      <td>0.903936</td>\n      <td>0.928329</td>\n      <td>0.007017</td>\n      <td>0.003215</td>\n      <td>0.861794</td>\n      <td>0.994199</td>\n      <td>SEKER</td>\n    </tr>\n    <tr>\n      <th>4</th>\n      <td>30140</td>\n      <td>620.134</td>\n      <td>201.847882</td>\n      <td>190.279279</td>\n      <td>1.060798</td>\n      <td>0.333680</td>\n      <td>30417</td>\n      <td>195.896503</td>\n      <td>0.773098</td>\n      <td>0.990893</td>\n      <td>0.984877</td>\n      <td>0.970516</td>\n      <td>0.006697</td>\n      <td>0.003665</td>\n      <td>0.941900</td>\n      <td>0.999166</td>\n      <td>SEKER</td>\n    </tr>\n    <tr>\n      <th>...</th>\n      <td>...</td>\n      <td>...</td>\n      <td>...</td>\n      <td>...</td>\n      <td>...</td>\n      <td>...</td>\n      <td>...</td>\n      <td>...</td>\n      <td>...</td>\n      <td>...</td>\n      <td>...</td>\n      <td>...</td>\n      <td>...</td>\n      <td>...</td>\n      <td>...</td>\n      <td>...</td>\n      <td>...</td>\n    </tr>\n    <tr>\n      <th>13606</th>\n      <td>42097</td>\n      <td>759.696</td>\n      <td>288.721612</td>\n      <td>185.944705</td>\n      <td>1.552728</td>\n      <td>0.765002</td>\n      <td>42508</td>\n      <td>231.515799</td>\n      <td>0.714574</td>\n      <td>0.990331</td>\n      <td>0.916603</td>\n      <td>0.801865</td>\n      <td>0.006858</td>\n      <td>0.001749</td>\n      <td>0.642988</td>\n      <td>0.998385</td>\n      <td>DERMASON</td>\n    </tr>\n    <tr>\n      <th>13607</th>\n      <td>42101</td>\n      <td>757.499</td>\n      <td>281.576392</td>\n      <td>190.713136</td>\n      <td>1.476439</td>\n      <td>0.735702</td>\n      <td>42494</td>\n      <td>231.526798</td>\n      <td>0.799943</td>\n      <td>0.990752</td>\n      <td>0.922015</td>\n      <td>0.822252</td>\n      <td>0.006688</td>\n      <td>0.001886</td>\n      <td>0.676099</td>\n      <td>0.998219</td>\n      <td>DERMASON</td>\n    </tr>\n    <tr>\n      <th>13608</th>\n      <td>42139</td>\n      <td>759.321</td>\n      <td>281.539928</td>\n      <td>191.187979</td>\n      <td>1.472582</td>\n      <td>0.734065</td>\n      <td>42569</td>\n      <td>231.631261</td>\n      <td>0.729932</td>\n      <td>0.989899</td>\n      <td>0.918424</td>\n      <td>0.822730</td>\n      <td>0.006681</td>\n      <td>0.001888</td>\n      <td>0.676884</td>\n      <td>0.996767</td>\n      <td>DERMASON</td>\n    </tr>\n    <tr>\n      <th>13609</th>\n      <td>42147</td>\n      <td>763.779</td>\n      <td>283.382636</td>\n      <td>190.275731</td>\n      <td>1.489326</td>\n      <td>0.741055</td>\n      <td>42667</td>\n      <td>231.653247</td>\n      <td>0.705389</td>\n      <td>0.987813</td>\n      <td>0.907906</td>\n      <td>0.817457</td>\n      <td>0.006724</td>\n      <td>0.001852</td>\n      <td>0.668237</td>\n      <td>0.995222</td>\n      <td>DERMASON</td>\n    </tr>\n    <tr>\n      <th>13610</th>\n      <td>42159</td>\n      <td>772.237</td>\n      <td>295.142741</td>\n      <td>182.204716</td>\n      <td>1.619841</td>\n      <td>0.786693</td>\n      <td>42600</td>\n      <td>231.686223</td>\n      <td>0.788962</td>\n      <td>0.989648</td>\n      <td>0.888380</td>\n      <td>0.784997</td>\n      <td>0.007001</td>\n      <td>0.001640</td>\n      <td>0.616221</td>\n      <td>0.998180</td>\n      <td>DERMASON</td>\n    </tr>\n  </tbody>\n</table>\n<p>13611 rows × 17 columns</p>\n</div>"
     },
     "execution_count": 119,
     "metadata": {},
     "output_type": "execute_result"
    }
   ],
   "source": [
    "df = pd.read_csv('Dry_Bean_Dataset.csv')\n",
    "df"
   ],
   "metadata": {
    "collapsed": false,
    "ExecuteTime": {
     "end_time": "2023-10-31T14:33:14.843702Z",
     "start_time": "2023-10-31T14:33:14.815495Z"
    }
   },
   "id": "f5fdd1a0ce6606d1"
  },
  {
   "cell_type": "code",
   "execution_count": 120,
   "outputs": [],
   "source": [
    "X = df.drop(columns='Class')\n",
    "y = df['Class']\n",
    "X_train, X_test, y_train, y_test = train_test_split(X, y, test_size=0.25, random_state=42)\n",
    "X_train, X_test = StandardScaler().fit_transform(X_train), StandardScaler().fit_transform(X_test)"
   ],
   "metadata": {
    "collapsed": false,
    "ExecuteTime": {
     "end_time": "2023-10-31T14:33:15.585310Z",
     "start_time": "2023-10-31T14:33:15.570108Z"
    }
   },
   "id": "6fbc77684bbc11e3"
  },
  {
   "cell_type": "markdown",
   "source": [
    "### a. k-Nearest Neighbour"
   ],
   "metadata": {
    "collapsed": false
   },
   "id": "e866be1387934954"
  },
  {
   "cell_type": "code",
   "execution_count": 201,
   "outputs": [
    {
     "name": "stdout",
     "output_type": "stream",
     "text": [
      "Accuracy: 0.8942109903026741\n",
      "Precision: 0.8942109903026741\n",
      "Recall: 0.8942109903026741\n",
      "F1: [0.90694239 0.99649123 0.92707046 0.87883864 0.93333333 0.93909627\n",
      " 0.7961165 ]\n",
      "\n",
      "Confusion Matrix:\n",
      "[[307   0  23   1   3   3   7]\n",
      " [  0 142   0   0   0   0   0]\n",
      " [ 12   1 375   0  11   1   2]\n",
      " [  0   0   0 787   1  15  48]\n",
      " [  6   0   4   3 462   0  11]\n",
      " [  4   0   0  20   0 478  11]\n",
      " [  4   0   5 129  27   8 492]]\n"
     ]
    }
   ],
   "source": [
    "kNN = KNeighborsClassifier(n_neighbors=3, weights='uniform', metric='cosine')\n",
    "kNN.fit(X_train, y_train)\n",
    "y_pred = kNN.predict(X_test)\n",
    "\n",
    "accuracy = accuracy_score(y_test, y_pred)\n",
    "precision = precision_score(y_test, y_pred, average='micro')\n",
    "recall = recall_score(y_test, y_pred, average='micro')\n",
    "f1 = f1_score(y_test, y_pred, average=None)\n",
    "\n",
    "print(\"Accuracy:\", accuracy)\n",
    "print(\"Precision:\", precision)\n",
    "print(\"Recall:\", recall)\n",
    "print(\"F1:\", f1)\n",
    "\n",
    "conf_matrix = confusion_matrix(y_test, y_pred)\n",
    "\n",
    "print(\"\\nConfusion Matrix:\")\n",
    "print(conf_matrix)"
   ],
   "metadata": {
    "collapsed": false,
    "ExecuteTime": {
     "end_time": "2023-10-31T15:00:09.554329Z",
     "start_time": "2023-10-31T15:00:08.774857Z"
    }
   },
   "id": "24659e0f24218726"
  },
  {
   "cell_type": "markdown",
   "source": [
    "### b. Decision Tree"
   ],
   "metadata": {
    "collapsed": false
   },
   "id": "cc8f7fb2c6bc37fc"
  },
  {
   "cell_type": "code",
   "execution_count": 191,
   "outputs": [
    {
     "name": "stdout",
     "output_type": "stream",
     "text": [
      "Accuracy: 0.9097854833970026\n",
      "Precision: 0.9097854833970026\n",
      "Recall: 0.9097854833970026\n",
      "F1: [0.89552239 1.         0.92307692 0.89905187 0.95607763 0.93506494\n",
      " 0.84838963]\n",
      "\n",
      "Confusion Matrix:\n",
      "[[300   0  27   0   2   4  11]\n",
      " [  0 142   0   0   0   0   0]\n",
      " [ 18   0 372   0   9   2   1]\n",
      " [  0   0   0 806   3   6  36]\n",
      " [  4   0   3   4 468   0   7]\n",
      " [  2   0   0  30   0 468  13]\n",
      " [  2   0   2 102  11   8 540]]\n"
     ]
    }
   ],
   "source": [
    "dT = DecisionTreeClassifier(min_impurity_decrease=0.0003)\n",
    "dT.fit(X_train, y_train)\n",
    "y_pred = dT.predict(X_test)\n",
    "\n",
    "accuracy = accuracy_score(y_test, y_pred)\n",
    "precision = precision_score(y_test, y_pred, average='micro')\n",
    "recall = recall_score(y_test, y_pred, average='micro')\n",
    "f1 = f1_score(y_test, y_pred, average=None)\n",
    "\n",
    "print(\"Accuracy:\", accuracy)\n",
    "print(\"Precision:\", precision)\n",
    "print(\"Recall:\", recall)\n",
    "print(\"F1:\", f1)\n",
    "\n",
    "conf_matrix = confusion_matrix(y_test, y_pred)\n",
    "\n",
    "print(\"\\nConfusion Matrix:\")\n",
    "print(conf_matrix)"
   ],
   "metadata": {
    "collapsed": false,
    "ExecuteTime": {
     "end_time": "2023-10-31T14:59:00.943762Z",
     "start_time": "2023-10-31T14:59:00.788860Z"
    }
   },
   "id": "f184b29bea6b2402"
  },
  {
   "cell_type": "markdown",
   "source": [
    "### c. Logistic regression"
   ],
   "metadata": {
    "collapsed": false
   },
   "id": "13b4ddf59a99e43e"
  },
  {
   "cell_type": "code",
   "execution_count": 192,
   "outputs": [
    {
     "name": "stdout",
     "output_type": "stream",
     "text": [
      "Accuracy: 0.9230091096091684\n",
      "Precision: 0.9230091096091684\n",
      "Recall: 0.9230091096091684\n",
      "F1: [0.91715976 1.         0.93969849 0.9109027  0.96494845 0.94613124\n",
      " 0.8677014 ]\n",
      "\n",
      "Confusion Matrix:\n",
      "[[310   0  18   0   0   3  13]\n",
      " [  0 142   0   0   0   0   0]\n",
      " [ 14   0 374   0   7   2   5]\n",
      " [  0   0   0 777   1  12  61]\n",
      " [  2   0   2   4 468   0  10]\n",
      " [  5   0   0  13   0 483  12]\n",
      " [  1   0   0  61   8   8 587]]\n"
     ]
    }
   ],
   "source": [
    "lR = LogisticRegression(max_iter=30000)\n",
    "lR.fit(X_train, y_train)\n",
    "y_pred = lR.predict(X_test)\n",
    "\n",
    "accuracy = accuracy_score(y_test, y_pred)\n",
    "precision = precision_score(y_test, y_pred, average='micro')\n",
    "recall = recall_score(y_test, y_pred, average='micro')\n",
    "f1 = f1_score(y_test, y_pred, average=None)\n",
    "\n",
    "print(\"Accuracy:\", accuracy)\n",
    "print(\"Precision:\", precision)\n",
    "print(\"Recall:\", recall)\n",
    "print(\"F1:\", f1)\n",
    "\n",
    "conf_matrix = confusion_matrix(y_test, y_pred)\n",
    "\n",
    "print(\"\\nConfusion Matrix:\")\n",
    "print(conf_matrix)"
   ],
   "metadata": {
    "collapsed": false,
    "ExecuteTime": {
     "end_time": "2023-10-31T14:59:02.848793Z",
     "start_time": "2023-10-31T14:59:02.078216Z"
    }
   },
   "id": "a14da8fa641b2ebf"
  },
  {
   "cell_type": "markdown",
   "source": [
    "### d. Randomforest"
   ],
   "metadata": {
    "collapsed": false
   },
   "id": "122726c8cf2d23dd"
  },
  {
   "cell_type": "code",
   "execution_count": 193,
   "outputs": [
    {
     "name": "stdout",
     "output_type": "stream",
     "text": [
      "Accuracy: 0.9177196591243021\n",
      "Precision: 0.9177196591243021\n",
      "Recall: 0.9177196591243021\n",
      "F1: [0.91964286 1.         0.93416149 0.90241102 0.95786228 0.93596059\n",
      " 0.86539924]\n",
      "\n",
      "Confusion Matrix:\n",
      "[[309   0  21   0   2   4   8]\n",
      " [  0 142   0   0   0   0   0]\n",
      " [ 14   0 376   0   8   2   2]\n",
      " [  0   0   0 786   2  12  51]\n",
      " [  3   0   6   4 466   0   7]\n",
      " [  2   0   0  23   0 475  13]\n",
      " [  0   0   0  78   9   9 569]]\n"
     ]
    }
   ],
   "source": [
    "rFC = RandomForestClassifier(n_estimators=250, criterion='gini')\n",
    "rFC.fit(X_train, y_train)\n",
    "y_pred = rFC.predict(X_test)\n",
    "\n",
    "accuracy = accuracy_score(y_test, y_pred)\n",
    "precision = precision_score(y_test, y_pred, average='micro')\n",
    "recall = recall_score(y_test, y_pred, average='micro')\n",
    "f1 = f1_score(y_test, y_pred, average=None)\n",
    "\n",
    "print(\"Accuracy:\", accuracy)\n",
    "print(\"Precision:\", precision)\n",
    "print(\"Recall:\", recall)\n",
    "print(\"F1:\", f1)\n",
    "\n",
    "conf_matrix = confusion_matrix(y_test, y_pred)\n",
    "\n",
    "print(\"\\nConfusion Matrix:\")\n",
    "print(conf_matrix)"
   ],
   "metadata": {
    "collapsed": false,
    "ExecuteTime": {
     "end_time": "2023-10-31T14:59:12.791533Z",
     "start_time": "2023-10-31T14:59:06.919710Z"
    }
   },
   "id": "102718790b2f7dd1"
  },
  {
   "cell_type": "markdown",
   "source": [
    "### Discussion\n",
    "tbd"
   ],
   "metadata": {
    "collapsed": false
   },
   "id": "17ee12b144932d26"
  },
  {
   "cell_type": "markdown",
   "source": [
    "# Task 2\n",
    "Imagine that one of the bean types (‘Sira’) is moderately poisonous. How should you ‘nudge’ the performance of a classifier to address this? What evaluation metric is appropriate to capture this? Starting with the research resources linked below, identify a method to address this issue; test this method on the dataset. You don’t need to get perfect accuracy on the ‘Sira’ classification, the objective is to improve performance on the ‘Sira’ class without too much impact on the other classes. Discuss your findings in markdown. \n"
   ],
   "metadata": {
    "collapsed": false
   },
   "id": "24349b6019b8a71"
  },
  {
   "cell_type": "code",
   "execution_count": 194,
   "outputs": [
    {
     "data": {
      "text/plain": "Class\nDERMASON    3546\nSIRA        2636\nSEKER       2027\nHOROZ       1928\nCALI        1630\nBARBUNYA    1322\nBOMBAY       522\nName: count, dtype: int64"
     },
     "execution_count": 194,
     "metadata": {},
     "output_type": "execute_result"
    }
   ],
   "source": [
    "class_dist = df['Class'].value_counts()\n",
    "class_dist"
   ],
   "metadata": {
    "collapsed": false,
    "ExecuteTime": {
     "end_time": "2023-10-31T14:59:19.608990Z",
     "start_time": "2023-10-31T14:59:19.603022Z"
    }
   },
   "id": "f739aad6451656d8"
  },
  {
   "cell_type": "markdown",
   "source": [
    "Sira is already the second-largest class in the dataset by number of samples, therefore under- or oversampling though being viable are not strictly necessary. \n",
    "Instead, the weight of class Sira is increased by a factor of 10."
   ],
   "metadata": {
    "collapsed": false
   },
   "id": "6f13565319afc7d8"
  },
  {
   "cell_type": "code",
   "execution_count": 195,
   "outputs": [
    {
     "data": {
      "text/plain": "{'DERMASON': 1,\n 'SIRA': 10,\n 'SEKER': 1,\n 'HOROZ': 1,\n 'CALI': 1,\n 'BARBUNYA': 1,\n 'BOMBAY': 1}"
     },
     "execution_count": 195,
     "metadata": {},
     "output_type": "execute_result"
    }
   ],
   "source": [
    "total_samples = len(df)\n",
    "class_weights = {class_label: 1 for class_label, num_samples in class_dist.items()}\n",
    "class_weights['SIRA'] = 10\n",
    "class_weights"
   ],
   "metadata": {
    "collapsed": false,
    "ExecuteTime": {
     "end_time": "2023-10-31T14:59:20.845898Z",
     "start_time": "2023-10-31T14:59:20.837280Z"
    }
   },
   "id": "2258e57ee6d925c9"
  },
  {
   "cell_type": "code",
   "execution_count": 196,
   "outputs": [
    {
     "name": "stdout",
     "output_type": "stream",
     "text": [
      "Accuracy: 0.8921539817807816\n",
      "Precision: 0.8921539817807816\n",
      "Recall: 0.8921539817807816\n",
      "F1: [0.91691395 1.         0.93552465 0.85319289 0.95319149 0.94630193\n",
      " 0.80943513]\n",
      "\n",
      "Confusion Matrix:\n",
      "<sklearn.metrics._plot.confusion_matrix.ConfusionMatrixDisplay object at 0x156f8f3d0>\n"
     ]
    },
    {
     "data": {
      "text/plain": "<Figure size 640x480 with 2 Axes>",
      "image/png": "[encoded data removed]"
     },
     "metadata": {},
     "output_type": "display_data"
    }
   ],
   "source": [
    "lR = LogisticRegression(max_iter=3000, class_weight=class_weights)\n",
    "lR.fit(X_train, y_train)\n",
    "y_pred = lR.predict(X_test)\n",
    "\n",
    "accuracy = accuracy_score(y_test, y_pred)\n",
    "precision = precision_score(y_test, y_pred, average='micro')\n",
    "recall = recall_score(y_test, y_pred, average='micro')\n",
    "f1 = f1_score(y_test, y_pred, average=None)\n",
    "\n",
    "print(\"Accuracy:\", accuracy)\n",
    "print(\"Precision:\", precision)\n",
    "print(\"Recall:\", recall)\n",
    "print(\"F1:\", f1)\n",
    "\n",
    "#conf_matrix = confusion_matrix(y_test, y_pred)\n",
    "conf_matrix = ConfusionMatrixDisplay.from_predictions(y_test, y_pred, cmap='RdPu', xticks_rotation=45.0)\n",
    "\n",
    "print(\"\\nConfusion Matrix:\")\n",
    "print(conf_matrix)"
   ],
   "metadata": {
    "collapsed": false,
    "ExecuteTime": {
     "end_time": "2023-10-31T14:59:22.561534Z",
     "start_time": "2023-10-31T14:59:21.507659Z"
    }
   },
   "id": "a434ba04a5401af4"
  },
  {
   "cell_type": "code",
   "execution_count": 197,
   "outputs": [
    {
     "data": {
      "text/plain": "array([[[3038,   21],\n        [  35,  309]],\n\n       [[3261,    0],\n        [   0,  142]],\n\n       [[2982,   19],\n        [  32,  370]],\n\n       [[2532,   20],\n        [ 203,  648]],\n\n       [[2911,    6],\n        [  38,  448]],\n\n       [[2883,    7],\n        [  46,  467]],\n\n       [[2444,  294],\n        [  13,  652]]])"
     },
     "execution_count": 197,
     "metadata": {},
     "output_type": "execute_result"
    }
   ],
   "source": [
    "mcm = multilabel_confusion_matrix(y_test, y_pred)\n",
    "mcm"
   ],
   "metadata": {
    "collapsed": false,
    "ExecuteTime": {
     "end_time": "2023-10-31T14:59:22.757803Z",
     "start_time": "2023-10-31T14:59:22.754501Z"
    }
   },
   "id": "c4ee8aec44ef90b8"
  },
  {
   "cell_type": "code",
   "execution_count": 198,
   "outputs": [
    {
     "data": {
      "text/plain": "0.9805"
     },
     "execution_count": 198,
     "metadata": {},
     "output_type": "execute_result"
    }
   ],
   "source": [
    "recall_sira = round(mcm[6][1][1] / (mcm[6][1][0] + mcm[6][1][1]), 4)\n",
    "recall_sira"
   ],
   "metadata": {
    "collapsed": false,
    "ExecuteTime": {
     "end_time": "2023-10-31T14:59:23.695773Z",
     "start_time": "2023-10-31T14:59:23.674598Z"
    }
   },
   "id": "2d850b92436f1dbf"
  },
  {
   "cell_type": "code",
   "execution_count": null,
   "outputs": [],
   "source": [],
   "metadata": {
    "collapsed": false
   },
   "id": "17b8e3071930ddf0"
  }
 ],
 "metadata": {
  "kernelspec": {
   "display_name": "Python 3",
   "language": "python",
   "name": "python3"
  },
  "language_info": {
   "codemirror_mode": {
    "name": "ipython",
    "version": 2
   },
   "file_extension": ".py",
   "mimetype": "text/x-python",
   "name": "python",
   "nbconvert_exporter": "python",
   "pygments_lexer": "ipython2",
   "version": "2.7.6"
  }
 },
 "nbformat": 4,
 "nbformat_minor": 5
}
