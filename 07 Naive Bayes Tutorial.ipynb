{
 "cells": [
  {
   "cell_type": "markdown",
   "metadata": {},
   "source": [
    "# 07 Naive Bayes Tutorial\n",
    "**Q4(b)**  \n",
    "A ranking classifier is a classifier that can rank a test set in order of confidence for a given classification outcome.  \n",
    "Naive Bayes is a ranking classifier because the ‘probability’ can be used as a confidence measure for ranking.\n",
    "1. Train a Naive Bayes classifier from the `AthleteSelection` data. Use `GaussianNB`.\n",
    "2. Load the test data from `AthleteTest.csv` and apply the classifier. \n",
    "3. Use the `predict_proba` method to find the probability of being selected. \n",
    "4. Rank the test set by probability of being selected.  \n",
    "    4.1. Who is most likely to be selected?  \n",
    "    4.2. Who is least likely?  \n"
   ]
  },
  {
   "cell_type": "code",
   "execution_count": 1,
   "metadata": {
    "ExecuteTime": {
     "end_time": "2023-10-04T11:33:23.372643Z",
     "start_time": "2023-10-04T11:33:18.279682Z"
    }
   },
   "outputs": [],
   "source": [
    "import pandas as pd\n",
    "from sklearn.naive_bayes import MultinomialNB, GaussianNB, BernoulliNB\n",
    "from sklearn.metrics import confusion_matrix "
   ]
  },
  {
   "cell_type": "code",
   "execution_count": 2,
   "metadata": {
    "ExecuteTime": {
     "end_time": "2023-10-04T11:33:26.184609Z",
     "start_time": "2023-10-04T11:33:26.164319Z"
    }
   },
   "outputs": [
    {
     "data": {
      "text/plain": "         Speed  Agility Selected\nAthlete                         \nx1        2.50     6.00       No\nx2        3.75     8.00       No\nx3        2.25     5.50       No\nx4        3.25     8.25       No\nx5        2.75     7.50       No",
      "text/html": "<div>\n<style scoped>\n    .dataframe tbody tr th:only-of-type {\n        vertical-align: middle;\n    }\n\n    .dataframe tbody tr th {\n        vertical-align: top;\n    }\n\n    .dataframe thead th {\n        text-align: right;\n    }\n</style>\n<table border=\"1\" class=\"dataframe\">\n  <thead>\n    <tr style=\"text-align: right;\">\n      <th></th>\n      <th>Speed</th>\n      <th>Agility</th>\n      <th>Selected</th>\n    </tr>\n    <tr>\n      <th>Athlete</th>\n      <th></th>\n      <th></th>\n      <th></th>\n    </tr>\n  </thead>\n  <tbody>\n    <tr>\n      <th>x1</th>\n      <td>2.50</td>\n      <td>6.00</td>\n      <td>No</td>\n    </tr>\n    <tr>\n      <th>x2</th>\n      <td>3.75</td>\n      <td>8.00</td>\n      <td>No</td>\n    </tr>\n    <tr>\n      <th>x3</th>\n      <td>2.25</td>\n      <td>5.50</td>\n      <td>No</td>\n    </tr>\n    <tr>\n      <th>x4</th>\n      <td>3.25</td>\n      <td>8.25</td>\n      <td>No</td>\n    </tr>\n    <tr>\n      <th>x5</th>\n      <td>2.75</td>\n      <td>7.50</td>\n      <td>No</td>\n    </tr>\n  </tbody>\n</table>\n</div>"
     },
     "execution_count": 2,
     "metadata": {},
     "output_type": "execute_result"
    }
   ],
   "source": [
    "athlete = pd.read_csv('AthleteSelection.csv',index_col = 'Athlete')\n",
    "athlete.head()"
   ]
  },
  {
   "cell_type": "code",
   "execution_count": 3,
   "metadata": {
    "ExecuteTime": {
     "end_time": "2023-10-04T11:33:27.238654Z",
     "start_time": "2023-10-04T11:33:27.230362Z"
    }
   },
   "outputs": [],
   "source": [
    "y = athlete['Selected'].values\n",
    "X = athlete[['Speed','Agility']].values"
   ]
  },
  {
   "cell_type": "code",
   "execution_count": 4,
   "metadata": {
    "ExecuteTime": {
     "end_time": "2023-10-04T11:33:27.820629Z",
     "start_time": "2023-10-04T11:33:27.810527Z"
    }
   },
   "outputs": [],
   "source": [
    "gnb = GaussianNB()\n",
    "bnb = BernoulliNB()\n",
    "mnb = MultinomialNB()\n",
    "ath_NB = gnb.fit(X,y)\n",
    "y_dash = ath_NB.predict(X)"
   ]
  },
  {
   "cell_type": "code",
   "execution_count": 5,
   "metadata": {
    "ExecuteTime": {
     "end_time": "2023-10-04T11:33:28.678740Z",
     "start_time": "2023-10-04T11:33:28.675304Z"
    }
   },
   "outputs": [
    {
     "name": "stdout",
     "output_type": "stream",
     "text": [
      "Confusion matrix:\n",
      "[[12  0]\n",
      " [ 1  7]]\n"
     ]
    }
   ],
   "source": [
    "confusion = confusion_matrix(y, y_dash)\n",
    "print(\"Confusion matrix:\\n{}\".format(confusion)) "
   ]
  },
  {
   "cell_type": "code",
   "execution_count": 6,
   "metadata": {
    "ExecuteTime": {
     "end_time": "2023-10-04T11:33:29.571289Z",
     "start_time": "2023-10-04T11:33:29.565094Z"
    }
   },
   "outputs": [
    {
     "name": "stdout",
     "output_type": "stream",
     "text": [
      "['No' 'No' 'No' 'No' 'No' 'No' 'No' 'No' 'No' 'No' 'No' 'No' 'Yes' 'Yes'\n",
      " 'Yes' 'Yes' 'Yes' 'Yes' 'Yes' 'Yes']\n",
      "['No' 'No' 'No' 'No' 'No' 'No' 'No' 'No' 'No' 'No' 'No' 'No' 'Yes' 'Yes'\n",
      " 'No' 'Yes' 'Yes' 'Yes' 'Yes' 'Yes']\n"
     ]
    }
   ],
   "source": [
    "print(y)\n",
    "print(y_dash)"
   ]
  },
  {
   "cell_type": "markdown",
   "metadata": {},
   "source": [
    "## Test Data "
   ]
  },
  {
   "cell_type": "code",
   "execution_count": 7,
   "metadata": {
    "ExecuteTime": {
     "end_time": "2023-10-04T11:33:31.145152Z",
     "start_time": "2023-10-04T11:33:31.129721Z"
    }
   },
   "outputs": [
    {
     "data": {
      "text/plain": "         Speed  Agility\nAthlete                \nt1         3.3      8.2\nt2         4.5      4.5\nt3         5.5      7.2\nt4         3.8      8.8\nt5         5.5      5.2\nt6         8.1      7.8\nt7         7.7      5.2\nt8         6.1      5.5\nt9         5.5      6.0\nt10        6.1      5.5",
      "text/html": "<div>\n<style scoped>\n    .dataframe tbody tr th:only-of-type {\n        vertical-align: middle;\n    }\n\n    .dataframe tbody tr th {\n        vertical-align: top;\n    }\n\n    .dataframe thead th {\n        text-align: right;\n    }\n</style>\n<table border=\"1\" class=\"dataframe\">\n  <thead>\n    <tr style=\"text-align: right;\">\n      <th></th>\n      <th>Speed</th>\n      <th>Agility</th>\n    </tr>\n    <tr>\n      <th>Athlete</th>\n      <th></th>\n      <th></th>\n    </tr>\n  </thead>\n  <tbody>\n    <tr>\n      <th>t1</th>\n      <td>3.3</td>\n      <td>8.2</td>\n    </tr>\n    <tr>\n      <th>t2</th>\n      <td>4.5</td>\n      <td>4.5</td>\n    </tr>\n    <tr>\n      <th>t3</th>\n      <td>5.5</td>\n      <td>7.2</td>\n    </tr>\n    <tr>\n      <th>t4</th>\n      <td>3.8</td>\n      <td>8.8</td>\n    </tr>\n    <tr>\n      <th>t5</th>\n      <td>5.5</td>\n      <td>5.2</td>\n    </tr>\n    <tr>\n      <th>t6</th>\n      <td>8.1</td>\n      <td>7.8</td>\n    </tr>\n    <tr>\n      <th>t7</th>\n      <td>7.7</td>\n      <td>5.2</td>\n    </tr>\n    <tr>\n      <th>t8</th>\n      <td>6.1</td>\n      <td>5.5</td>\n    </tr>\n    <tr>\n      <th>t9</th>\n      <td>5.5</td>\n      <td>6.0</td>\n    </tr>\n    <tr>\n      <th>t10</th>\n      <td>6.1</td>\n      <td>5.5</td>\n    </tr>\n  </tbody>\n</table>\n</div>"
     },
     "execution_count": 7,
     "metadata": {},
     "output_type": "execute_result"
    }
   ],
   "source": [
    "ath_test = pd.read_csv('AthleteTest.csv',index_col = 'Athlete')\n",
    "ath_test"
   ]
  },
  {
   "cell_type": "code",
   "execution_count": 8,
   "metadata": {
    "ExecuteTime": {
     "end_time": "2023-10-04T11:33:31.625594Z",
     "start_time": "2023-10-04T11:33:31.618819Z"
    }
   },
   "outputs": [],
   "source": [
    "X_test = ath_test[['Speed','Agility']].values"
   ]
  },
  {
   "cell_type": "code",
   "execution_count": 9,
   "metadata": {
    "ExecuteTime": {
     "end_time": "2023-10-04T11:33:31.983208Z",
     "start_time": "2023-10-04T11:33:31.980966Z"
    }
   },
   "outputs": [
    {
     "data": {
      "text/plain": "array([[9.58686371e-01, 4.13136290e-02],\n       [8.77017219e-01, 1.22982781e-01],\n       [8.80671574e-02, 9.11932843e-01],\n       [8.49522335e-01, 1.50477665e-01],\n       [2.00167162e-01, 7.99832838e-01],\n       [2.64304710e-06, 9.99997357e-01],\n       [5.48092049e-05, 9.99945191e-01],\n       [2.70690822e-02, 9.72930918e-01],\n       [1.45717357e-01, 8.54282643e-01],\n       [2.70690822e-02, 9.72930918e-01]])"
     },
     "execution_count": 9,
     "metadata": {},
     "output_type": "execute_result"
    }
   ],
   "source": [
    "yt_dash = ath_NB.predict_proba(X_test)\n",
    "yt_dash"
   ]
  },
  {
   "cell_type": "code",
   "execution_count": 10,
   "metadata": {
    "ExecuteTime": {
     "end_time": "2023-10-04T11:33:32.481844Z",
     "start_time": "2023-10-04T11:33:32.479792Z"
    }
   },
   "outputs": [
    {
     "ename": "SyntaxError",
     "evalue": "invalid syntax (3168088619.py, line 1)",
     "output_type": "error",
     "traceback": [
      "\u001B[0;36m  Cell \u001B[0;32mIn[10], line 1\u001B[0;36m\u001B[0m\n\u001B[0;31m    ath_NB.\u001B[0m\n\u001B[0m           ^\u001B[0m\n\u001B[0;31mSyntaxError\u001B[0m\u001B[0;31m:\u001B[0m invalid syntax\n"
     ]
    }
   ],
   "source": [
    "ath_NB."
   ]
  },
  {
   "cell_type": "code",
   "execution_count": null,
   "metadata": {},
   "outputs": [],
   "source": []
  },
  {
   "cell_type": "markdown",
   "metadata": {},
   "source": [
    "**Q4(c)**\n",
    "\n",
    "When a `GaussianNB` model is trained the model is stored in two parameters `theta_` and `var_`. Train a `GaussianNB` model and check to see if these parameters agree with your own estimates. \n",
    "\n",
    "Hint: this code will give you the estimates you need. \n",
    "`athlete[athlete[‘Selected']=='No']['Agility'].mean()`\n",
    "`athlete[athlete[‘Selected']=='No']['Agility'].var(ddof=0)`\n",
    "\n",
    "The `var_` parameter contains the square of the standard deviation (the variance) rather than the standard deviations.  \n",
    "The figures should agree exactly if `ddof` is set to zero in the `var` calculation.  "
   ]
  },
  {
   "cell_type": "code",
   "execution_count": 11,
   "metadata": {
    "ExecuteTime": {
     "end_time": "2023-10-04T11:37:25.798345Z",
     "start_time": "2023-10-04T11:37:25.796161Z"
    }
   },
   "outputs": [
    {
     "data": {
      "text/plain": "5.083333333333333"
     },
     "execution_count": 11,
     "metadata": {},
     "output_type": "execute_result"
    }
   ],
   "source": [
    "athlete[athlete['Selected']=='No']['Agility'].mean()"
   ]
  },
  {
   "cell_type": "code",
   "execution_count": 12,
   "outputs": [
    {
     "data": {
      "text/plain": "3.9930555555555554"
     },
     "execution_count": 12,
     "metadata": {},
     "output_type": "execute_result"
    }
   ],
   "source": [
    "athlete[athlete['Selected']=='No']['Agility'].var(ddof=0)"
   ],
   "metadata": {
    "collapsed": false,
    "ExecuteTime": {
     "end_time": "2023-10-04T11:37:26.353644Z",
     "start_time": "2023-10-04T11:37:26.343538Z"
    }
   }
  },
  {
   "cell_type": "code",
   "execution_count": 16,
   "outputs": [],
   "source": [
    "result = gnb.fit(X, y)"
   ],
   "metadata": {
    "collapsed": false,
    "ExecuteTime": {
     "end_time": "2023-10-04T11:39:41.970883Z",
     "start_time": "2023-10-04T11:39:41.960853Z"
    }
   }
  },
  {
   "cell_type": "code",
   "execution_count": 17,
   "outputs": [
    {
     "data": {
      "text/plain": "array([[3.39583333, 5.08333333],\n       [6.40625   , 6.96875   ]])"
     },
     "execution_count": 17,
     "metadata": {},
     "output_type": "execute_result"
    }
   ],
   "source": [
    "result.theta_"
   ],
   "metadata": {
    "collapsed": false,
    "ExecuteTime": {
     "end_time": "2023-10-04T11:39:42.747204Z",
     "start_time": "2023-10-04T11:39:42.744671Z"
    }
   }
  },
  {
   "cell_type": "code",
   "execution_count": 18,
   "outputs": [
    {
     "data": {
      "text/plain": "array([[0.80685764, 3.99305556],\n       [1.37402344, 3.91308594]])"
     },
     "execution_count": 18,
     "metadata": {},
     "output_type": "execute_result"
    }
   ],
   "source": [
    "result.var_"
   ],
   "metadata": {
    "collapsed": false,
    "ExecuteTime": {
     "end_time": "2023-10-04T11:39:52.486301Z",
     "start_time": "2023-10-04T11:39:52.467067Z"
    }
   }
  },
  {
   "cell_type": "code",
   "execution_count": null,
   "outputs": [],
   "source": [],
   "metadata": {
    "collapsed": false
   }
  }
 ],
 "metadata": {
  "kernelspec": {
   "display_name": "Python 3",
   "language": "python",
   "name": "python3"
  },
  "language_info": {
   "codemirror_mode": {
    "name": "ipython",
    "version": 3
   },
   "file_extension": ".py",
   "mimetype": "text/x-python",
   "name": "python",
   "nbconvert_exporter": "python",
   "pygments_lexer": "ipython3",
   "version": "3.8.8"
  }
 },
 "nbformat": 4,
 "nbformat_minor": 2
}
